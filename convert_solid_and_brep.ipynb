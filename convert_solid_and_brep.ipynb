{
 "metadata": {
  "language_info": {
   "codemirror_mode": {
    "name": "ipython",
    "version": 3
   },
   "file_extension": ".py",
   "mimetype": "text/x-python",
   "name": "python",
   "nbconvert_exporter": "python",
   "pygments_lexer": "ipython3",
   "version": "3.8.5-final"
  },
  "orig_nbformat": 2,
  "kernelspec": {
   "name": "python38564bit803274702961490c8f23f97c39496878",
   "display_name": "Python 3.8.5 64-bit"
  }
 },
 "nbformat": 4,
 "nbformat_minor": 2,
 "cells": [
  {
   "source": [
    "# Convert a SolidMesh into its BoundaryRepresentation\n",
    "\n",
    "The goal is to transform a volumetric mesh into a model as defined here: https://docs.geode-solutions.com/datamodel\n",
    "The core of the problem is to identify and to extract the topological information from the mesh.\n",
    "There are two ways to realize this identification:\n",
    "- from the polyhedra adjacencies;\n",
    "- from Attribute values on the polyhedra."
   ],
   "cell_type": "markdown",
   "metadata": {}
  },
  {
   "source": [
    "## Import modules\n",
    "\n",
    "You need to import OpenGeode and Geode-Conversion modules."
   ],
   "cell_type": "markdown",
   "metadata": {}
  },
  {
   "cell_type": "code",
   "execution_count": null,
   "metadata": {},
   "outputs": [],
   "source": [
    "# Fix to better handle import since Python 3.8 on Windows\n",
    "import os, sys, platform\n",
    "if sys.version_info >= (3,8,0) and platform.system() == \"Windows\":\n",
    "    for path in [x.strip() for x in os.environ['PATH'].split(';') if x]:\n",
    "        os.add_dll_directory(path)\n",
    "\n",
    "import opengeode\n",
    "import geode_conversion"
   ]
  },
  {
   "source": [
    "## Conversion from polyhedra adjacencies\n",
    "\n",
    "In this case, we want to convert the micro-topology, meaning the adjacency relationships at polyhedron level into the model topology, meaning a set of components (volumic, surfacic...) with their connectivity relationships.\n"
   ],
   "cell_type": "markdown",
   "metadata": {}
  },
  {
   "cell_type": "code",
   "execution_count": null,
   "metadata": {},
   "outputs": [],
   "source": [
    "# Load solid and convert it\n",
    "solid = opengeode.load_tetrahedral_solid3D(\"model_as_solid.og_tso3d\")\n",
    "brep_from_solid = geode_conversion.convert_solid_into_brep_from_adjacencies(solid)\n",
    "opengeode.save_brep(brep_from_solid, \"brep_from_solid.og_brep\")"
   ]
  },
  {
   "cell_type": "code",
   "execution_count": null,
   "metadata": {},
   "outputs": [],
   "source": [
    "# Display information on the model\n",
    "print(brep_from_solid.nb_corners())\n",
    "print(brep_from_solid.nb_lines())\n",
    "print(brep_from_solid.nb_surfaces())\n",
    "print(brep_from_solid.nb_blocks())"
   ]
  },
  {
   "source": [
    "## Conversion from Attribute values\n",
    "\n",
    "In this case, an Attribute is attached to the solid where each attribute value is stored in a polyhedron.\n",
    "Polyhedra with the same values will end up in the same Block in the boundary representation.\n",
    "From these Blocks, the corresponding boundary surfaces will be generated."
   ],
   "cell_type": "markdown",
   "metadata": {}
  },
  {
   "cell_type": "code",
   "execution_count": null,
   "metadata": {},
   "outputs": [],
   "source": [
    "# Load solid and convert it\n",
    "solid = opengeode.load_tetrahedral_solid3D(\"model_as_solid.og_tso3d\")\n",
    "brep_from_solid = geode_conversion.convert_solid_into_brep_from_attribute(solid, \"attribute_name\")\n",
    "opengeode.save_brep(brep_from_solid, \"brep_from_solid.og_brep\")"
   ]
  },
  {
   "source": [
    "# Display information on the model\n",
    "print(brep_from_solid.nb_corners())\n",
    "print(brep_from_solid.nb_lines())\n",
    "print(brep_from_solid.nb_surfaces())\n",
    "print(brep_from_solid.nb_blocks())"
   ],
   "cell_type": "code",
   "metadata": {},
   "execution_count": null,
   "outputs": []
  },
  {
   "source": [
    "## Conversion from model to solid\n",
    "\n",
    "Inversely, if you have a model with a volumetric mesh, you can also convert it into a solid."
   ],
   "cell_type": "markdown",
   "metadata": {}
  },
  {
   "cell_type": "code",
   "execution_count": null,
   "metadata": {},
   "outputs": [],
   "source": [
    "converted_solid = geode_conversion.convert_brep_into_solid( brep_from_solid )\n",
    "opengeode.save_polyhedral_solid3D(converted_solid, \"solid_from_brep.og_pso3d\")"
   ]
  }
 ]
}